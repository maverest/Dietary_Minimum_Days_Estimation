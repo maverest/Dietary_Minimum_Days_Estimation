{
 "cells": [
  {
   "cell_type": "code",
   "execution_count": 5,
   "metadata": {},
   "outputs": [],
   "source": [
    "import pickle\n",
    "import pandas as pd\n",
    "\n",
    "def save_dict_list_as(dic, file_name):\n",
    "    with open(file_name, 'wb') as file:\n",
    "        pickle.dump(dic, file)\n",
    "    return 0\n",
    "\n",
    "\n",
    "def load_dict_list(file_name):\n",
    "    with open(file_name, 'rb') as file:\n",
    "        loaded_dict = pickle.load(file)\n",
    "    return loaded_dict\n",
    "    "
   ]
  },
  {
   "cell_type": "code",
   "execution_count": 6,
   "metadata": {},
   "outputs": [],
   "source": [
    "features = load_dict_list('Food_group/features.pkl')"
   ]
  },
  {
   "cell_type": "markdown",
   "metadata": {},
   "source": [
    "### **Prepare nutritional features categories**"
   ]
  },
  {
   "cell_type": "code",
   "execution_count": 7,
   "metadata": {},
   "outputs": [],
   "source": [
    "# Macronutriments\n",
    "macronutrients = [\n",
    "    'carb_eaten',\n",
    "    'fat_eaten',\n",
    "    'protein_eaten',\n",
    "    'fiber_eaten',\n",
    "    'alcohol_eaten'\n",
    "]\n",
    "\n",
    "# Micronutriments\n",
    "micronutrients = [\n",
    "    'beta_carotene_eaten',\n",
    "    'calcium_eaten',\n",
    "    'cholesterol_eaten',\n",
    "    'fatty_acids_monounsaturated_eaten',\n",
    "    'fatty_acids_polyunsaturated_eaten',\n",
    "    'fatty_acids_saturated_eaten',\n",
    "    'folate_eaten',\n",
    "    'iron_eaten',\n",
    "    'magnesium_eaten',\n",
    "    'niacin_eaten',\n",
    "    'pantothenic_acid_eaten',\n",
    "    'phosphorus_eaten',\n",
    "    'potassium_eaten',\n",
    "    'sodium_eaten',\n",
    "    'vitamin_b1_eaten',\n",
    "    'vitamin_b12_eaten',\n",
    "    'vitamin_b2_eaten',\n",
    "    'vitamin_b6_eaten',\n",
    "    'vitamin_c_eaten',\n",
    "    'vitamin_d_eaten',\n",
    "    'zinc_eaten'\n",
    "]\n",
    "\n",
    "# Types d'aliments\n",
    "food_types = [\n",
    "    'dairy_products_meat_fish_eggs_tofu',\n",
    "    'vegetables_fruits',\n",
    "    'sweets_salty_snacks_alcohol',\n",
    "    'non_alcoholic_beverages',\n",
    "    'grains_potatoes_pulses',\n",
    "    'oils_fats_nuts'\n",
    "]\n",
    "\n",
    "\n",
    "li = {\n",
    "    \"Food_type\" : food_types,\n",
    "    \"Macronutrients\" : macronutrients,\n",
    "    \"Micronutrients\" : micronutrients,  \n",
    "}\n",
    "\n",
    "\n",
    "for name,val in li.items() : \n",
    "    save_dict_list_as(val, f\"Food_group/{name}.pkl\")"
   ]
  },
  {
   "cell_type": "markdown",
   "metadata": {},
   "source": [
    "**Table of data's demographic feature distribution**\n"
   ]
  },
  {
   "cell_type": "code",
   "execution_count": 8,
   "metadata": {},
   "outputs": [],
   "source": [
    "data = pd.read_csv(\"data_set\\data_for_analysis.csv\")\n",
    "data =data.groupby(\"subject_key\")[[\"gender\",\"age_group\", \"bmi_cat\"]].head(1)\n",
    "res = {}\n",
    "for c in data.columns : \n",
    "    val = (data[c].value_counts())\n",
    "    percent = (data[c].value_counts(normalize=True)* 100)\n",
    "    res[c] = pd.concat([val, percent], axis=1, keys=['Total', 'Percentage'])\n",
    "\n",
    "df_gender = pd.DataFrame(res['gender'], index=['female', 'male'])\n",
    "df_age_group = pd.DataFrame(res['age_group'], index=['35-49', '18-34', '50-64', '65+'])\n",
    "df_bmi_cat = pd.DataFrame(res['bmi_cat'], index=['Normal', 'Overweight', 'Obese', 'Underweight'])\n",
    "\n",
    "combined_df = pd.concat([df_gender, df_age_group, df_bmi_cat], keys=['Gender', 'Age Group', 'BMI Category'])\n",
    "combined_df.index.names = ['', 'Category']\n",
    "combined_df[\"Percentage\"] = combined_df[\"Percentage\"].apply(lambda x: f\"{str(x)[:4]}%\")\n",
    "combined_df.to_excel(\"table/demographic_distribution_table.xlsx\")\n"
   ]
  }
 ],
 "metadata": {
  "kernelspec": {
   "display_name": "Python 3",
   "language": "python",
   "name": "python3"
  },
  "language_info": {
   "codemirror_mode": {
    "name": "ipython",
    "version": 3
   },
   "file_extension": ".py",
   "mimetype": "text/x-python",
   "name": "python",
   "nbconvert_exporter": "python",
   "pygments_lexer": "ipython3",
   "version": "3.11.8"
  }
 },
 "nbformat": 4,
 "nbformat_minor": 2
}
